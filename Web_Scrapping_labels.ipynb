{
  "cells": [
    {
      "cell_type": "code",
      "execution_count": null,
      "id": "1cadf236-6b16-40d3-805a-a608a85be845",
      "metadata": {
        "id": "1cadf236-6b16-40d3-805a-a608a85be845"
      },
      "outputs": [],
      "source": [
        "from bs4 import BeautifulSoup\n",
        "import requests\n",
        "import pandas as pd\n",
        "import numpy as np\n",
        "import matplotlib.pyplot as plt\n",
        "%matplotlib inline"
      ]
    },
    {
      "cell_type": "code",
      "source": [
        "from google.colab import drive\n",
        "drive.mount('/content/drive')"
      ],
      "metadata": {
        "colab": {
          "base_uri": "https://localhost:8080/"
        },
        "id": "ZfxR_eYM5DDW",
        "outputId": "577ae21d-e3f6-4942-fbed-fcaa4f26c3af"
      },
      "id": "ZfxR_eYM5DDW",
      "execution_count": null,
      "outputs": [
        {
          "output_type": "stream",
          "name": "stdout",
          "text": [
            "Mounted at /content/drive\n"
          ]
        }
      ]
    },
    {
      "cell_type": "code",
      "execution_count": null,
      "id": "d02167ef-b8cb-4563-8d59-bf5952be54e2",
      "metadata": {
        "id": "d02167ef-b8cb-4563-8d59-bf5952be54e2"
      },
      "outputs": [],
      "source": [
        "id = []\n",
        "#Anneling_Conditions = []\n",
        "Microconstituent = []\n",
        "\n",
        "for i in range(1,1732):\n",
        "    url = 'http://uhcsdb.materials.cmu.edu/micrograph/'+str(i)\n",
        "    r = requests.get(url)\n",
        "    soup = BeautifulSoup(r.content, 'html.parser')\n",
        "    id.append(soup.find('div', class_ = 'about').h2.text)\n",
        "    #Anneling_Conditions.append(soup.find_all('em')[1].next_sibling)\n",
        "    Microconstituent.append(soup.find_all('em')[2].next_sibling)"
      ]
    },
    {
      "cell_type": "code",
      "execution_count": null,
      "id": "6305b0bb-3fe6-4c91-84aa-22367c38e31d",
      "metadata": {
        "id": "6305b0bb-3fe6-4c91-84aa-22367c38e31d"
      },
      "outputs": [],
      "source": [
        "labels_01 = pd.DataFrame({'id':id, 'Microconstituent':Microconstituent}, index=None, dtype='str')"
      ]
    },
    {
      "cell_type": "code",
      "execution_count": null,
      "id": "41559746-e844-42d3-8059-94d35bc27a64",
      "metadata": {
        "id": "41559746-e844-42d3-8059-94d35bc27a64"
      },
      "outputs": [],
      "source": [
        "labels_01.to_csv('labels_01.csv')"
      ]
    },
    {
      "cell_type": "code",
      "source": [
        "labels_01 = pd.read_csv('labels_01.csv')"
      ],
      "metadata": {
        "id": "qJS_-ma6xcOX"
      },
      "id": "qJS_-ma6xcOX",
      "execution_count": null,
      "outputs": []
    },
    {
      "cell_type": "code",
      "source": [
        "labels_01['Microconstituent'].unique()"
      ],
      "metadata": {
        "colab": {
          "base_uri": "https://localhost:8080/"
        },
        "id": "9V3aOe__7qmT",
        "outputId": "819f0115-87a9-4370-c3c1-ec724bc9a093"
      },
      "id": "9V3aOe__7qmT",
      "execution_count": null,
      "outputs": [
        {
          "output_type": "execute_result",
          "data": {
            "text/plain": [
              "array([' pearlite', ' spheroidite', ' quality', ' pearlite+spheroidite',\n",
              "       ' spheroidite+widmanstatten', ' network', ' None', ' crack',\n",
              "       ' martensite', ' figure', ' hole', ' indent', ' sample',\n",
              "       ' pearlite+widmanstatten'], dtype=object)"
            ]
          },
          "metadata": {},
          "execution_count": 5
        }
      ]
    },
    {
      "cell_type": "code",
      "execution_count": null,
      "id": "7c9a3888-4e90-4a19-b38f-19d6b0d5605a",
      "metadata": {
        "id": "7c9a3888-4e90-4a19-b38f-19d6b0d5605a",
        "colab": {
          "base_uri": "https://localhost:8080/"
        },
        "outputId": "2c1ba807-0c77-4b1b-8042-0ee90742cd87"
      },
      "outputs": [
        {
          "output_type": "stream",
          "name": "stdout",
          "text": [
            "There are 123   pearlite\n",
            "There are 374   spheroidite\n",
            "There are 161   quality\n",
            "There are 107   pearlite+spheroidite\n",
            "There are 81   spheroidite+widmanstatten\n",
            "There are 212   network\n",
            "There are 279   None\n",
            "There are 94   crack\n",
            "There are 36   martensite\n",
            "There are 8   figure\n",
            "There are 73   hole\n",
            "There are 72   indent\n",
            "There are 84   sample\n",
            "There are 27   pearlite+widmanstatten\n"
          ]
        }
      ],
      "source": [
        "for i in labels_01['Microconstituent'].unique():\n",
        "  print('There are {} '.format(labels_01[labels_01['Microconstituent']==i]['Microconstituent'].count()), i)"
      ]
    },
    {
      "cell_type": "code",
      "source": [
        "labels_01.drop('Unnamed: 0', axis=1, inplace=True)"
      ],
      "metadata": {
        "id": "tZMx7G4c6y_S"
      },
      "id": "tZMx7G4c6y_S",
      "execution_count": null,
      "outputs": []
    },
    {
      "cell_type": "code",
      "source": [
        "labels_01['Microconstituent'] = labels_01['Microconstituent'].apply(lambda x: x.split()[0])"
      ],
      "metadata": {
        "id": "6ZX_e-2PyPRE"
      },
      "id": "6ZX_e-2PyPRE",
      "execution_count": null,
      "outputs": []
    },
    {
      "cell_type": "code",
      "source": [
        "labels_01['Microconstituent'].unique()"
      ],
      "metadata": {
        "colab": {
          "base_uri": "https://localhost:8080/"
        },
        "id": "fB8TdkiOyW0j",
        "outputId": "056054f1-0893-4599-bdb8-8ab0f7c7749d"
      },
      "id": "fB8TdkiOyW0j",
      "execution_count": null,
      "outputs": [
        {
          "output_type": "execute_result",
          "data": {
            "text/plain": [
              "array(['pearlite', 'spheroidite', 'quality', 'pearlite+spheroidite',\n",
              "       'spheroidite+widmanstatten', 'network', 'None', 'crack',\n",
              "       'martensite', 'figure', 'hole', 'indent', 'sample',\n",
              "       'pearlite+widmanstatten'], dtype=object)"
            ]
          },
          "metadata": {},
          "execution_count": 25
        }
      ]
    },
    {
      "cell_type": "code",
      "source": [
        "labels_01.to_csv('labels_01.csv')"
      ],
      "metadata": {
        "id": "d8-dyxk2yvBN"
      },
      "id": "d8-dyxk2yvBN",
      "execution_count": null,
      "outputs": []
    },
    {
      "cell_type": "code",
      "source": [
        ""
      ],
      "metadata": {
        "id": "9BJehWR82Ms4"
      },
      "id": "9BJehWR82Ms4",
      "execution_count": null,
      "outputs": []
    }
  ],
  "metadata": {
    "kernelspec": {
      "display_name": "Python 3",
      "language": "python",
      "name": "python3"
    },
    "language_info": {
      "codemirror_mode": {
        "name": "ipython",
        "version": 3
      },
      "file_extension": ".py",
      "mimetype": "text/x-python",
      "name": "python",
      "nbconvert_exporter": "python",
      "pygments_lexer": "ipython3",
      "version": "3.8.8"
    },
    "colab": {
      "name": "Web_Scrapping_labels.ipynb",
      "provenance": [],
      "collapsed_sections": []
    }
  },
  "nbformat": 4,
  "nbformat_minor": 5
}