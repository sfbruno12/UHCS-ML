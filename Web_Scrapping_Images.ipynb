{
  "cells": [
    {
      "cell_type": "code",
      "execution_count": null,
      "id": "1cadf236-6b16-40d3-805a-a608a85be845",
      "metadata": {
        "id": "1cadf236-6b16-40d3-805a-a608a85be845"
      },
      "outputs": [],
      "source": [
        "from bs4 import BeautifulSoup\n",
        "import requests\n",
        "import pandas as pd\n",
        "import numpy as np\n",
        "import matplotlib.pyplot as plt\n",
        "%matplotlib inline"
      ]
    },
    {
      "cell_type": "code",
      "source": [
        "from google.colab import drive\n",
        "drive.mount('/content/drive')"
      ],
      "metadata": {
        "colab": {
          "base_uri": "https://localhost:8080/"
        },
        "id": "NKRCS6Oau2XU",
        "outputId": "75bbcb99-a752-42ec-e757-923a9f23123d"
      },
      "id": "NKRCS6Oau2XU",
      "execution_count": null,
      "outputs": [
        {
          "output_type": "stream",
          "name": "stdout",
          "text": [
            "Mounted at /content/drive\n"
          ]
        }
      ]
    },
    {
      "cell_type": "code",
      "source": [
        "%ls"
      ],
      "metadata": {
        "colab": {
          "base_uri": "https://localhost:8080/"
        },
        "id": "sqnNZal8vJsR",
        "outputId": "414baf57-9492-48d5-aa4e-4eba47fff7b6"
      },
      "id": "sqnNZal8vJsR",
      "execution_count": null,
      "outputs": [
        {
          "output_type": "stream",
          "name": "stdout",
          "text": [
            "ImagePreprocessing_01.ipynb  Web_Scrapping_Images.ipynb\n",
            "MobileNetV2_01.ipynb         Web_Scrapping_labels.ipynb\n"
          ]
        }
      ]
    },
    {
      "cell_type": "code",
      "source": [
        "import os"
      ],
      "metadata": {
        "id": "hKhARQmewWJ5"
      },
      "id": "hKhARQmewWJ5",
      "execution_count": null,
      "outputs": []
    },
    {
      "cell_type": "code",
      "source": [
        "os.mkdir('micrographs')"
      ],
      "metadata": {
        "id": "UMz7r2newXah"
      },
      "id": "UMz7r2newXah",
      "execution_count": null,
      "outputs": []
    },
    {
      "cell_type": "code",
      "source": [
        "for i in range(1,1732):\n",
        "  url = 'http://uhcsdb.materials.cmu.edu/static/micrographs-fullsize/micrograph{}.png'.format(i)\n",
        "  img_r = requests.get(url)\n",
        "  f = open('micrographs/micrograph{}.png'.format(i), 'wb')\n",
        "  f.write(img_r.content)\n",
        "  f.close()"
      ],
      "metadata": {
        "id": "97fIO90stKw1"
      },
      "id": "97fIO90stKw1",
      "execution_count": null,
      "outputs": []
    },
    {
      "cell_type": "code",
      "execution_count": null,
      "id": "7c9a3888-4e90-4a19-b38f-19d6b0d5605a",
      "metadata": {
        "id": "7c9a3888-4e90-4a19-b38f-19d6b0d5605a"
      },
      "outputs": [],
      "source": [
        ""
      ]
    }
  ],
  "metadata": {
    "kernelspec": {
      "display_name": "Python 3",
      "language": "python",
      "name": "python3"
    },
    "language_info": {
      "codemirror_mode": {
        "name": "ipython",
        "version": 3
      },
      "file_extension": ".py",
      "mimetype": "text/x-python",
      "name": "python",
      "nbconvert_exporter": "python",
      "pygments_lexer": "ipython3",
      "version": "3.8.8"
    },
    "colab": {
      "name": "Web_Scrapping_Images.ipynb",
      "provenance": [],
      "collapsed_sections": []
    }
  },
  "nbformat": 4,
  "nbformat_minor": 5
}